{
 "cells": [
  {
   "metadata": {},
   "cell_type": "markdown",
   "source": [
    "# Online Retail Data\n",
    "This is a transactional data set which contains all the transactions occurring between 01/12/2010 and 09/12/2011 for a UK-based and registered non-store online retail. The company\n",
    "mainly sells unique all-occasion gifts. Many customers of the company are wholesalers. The project work consists of demonstrating an aspect of the course using the selected 'Online Retail' dataset.\n",
    "\n",
    "## Data set description\n",
    "- **Source:** UK-based online retailer (year 2010-2011)\n",
    "- **Rows:** Each row represents a transaction.\n",
    "- **Columns:**\n",
    "  - `InvoiceNo`: Invoice number\n",
    "  - `StockCode`: Product code\n",
    "  - `Description`: Product description\n",
    "  - `Quantity`: Number of items purchased\n",
    "  - `InvoiceDate`: Date/time of the invoice\n",
    "  - `UnitPrice`: Price per unit\n",
    "  - `CustomerID`: Customer ID\n",
    "  - `Country`: Country of the customer\n",
    "\n",
    "---"
   ],
   "id": "8e68cac4"
  },
  {
   "metadata": {},
   "cell_type": "markdown",
   "source": "# Import data",
   "id": "94326ca9"
  },
  {
   "metadata": {},
   "cell_type": "code",
   "outputs": [],
   "execution_count": null,
   "source": [
    "import pandas as pd\n",
    "\n",
    "file_path = 'Dataset_Online_Retail.csv'\n",
    "df = pd.read_csv(file_path)\n",
    "\n",
    "df.head()"
   ],
   "id": "a5af3608"
  },
  {
   "metadata": {},
   "cell_type": "markdown",
   "source": [
    "---\n",
    "# 1. Data Preprocessing"
   ],
   "id": "a29cfdcb17352aff"
  },
  {
   "metadata": {},
   "cell_type": "markdown",
   "source": "<h2 style=\"color:#d36c87;\">1.1. Data cleaning</h2>",
   "id": "39bfb9e2"
  },
  {
   "metadata": {},
   "cell_type": "markdown",
   "source": "### Handling missing values",
   "id": "58c0bbac8e4f3be4"
  },
  {
   "metadata": {},
   "cell_type": "markdown",
   "source": "### Remove duplicates",
   "id": "ecf4c703"
  },
  {
   "metadata": {},
   "cell_type": "markdown",
   "source": "### Check invalid values",
   "id": "305631f2"
  },
  {
   "metadata": {},
   "cell_type": "markdown",
   "source": "### Identify or remove outliers",
   "id": "5d8fe08d15dc5425"
  },
  {
   "metadata": {},
   "cell_type": "markdown",
   "source": "### Check data types",
   "id": "c2354d47"
  },
  {
   "metadata": {},
   "cell_type": "markdown",
   "source": "### Feature Engineering",
   "id": "c760b80fc47d1ee8"
  },
  {
   "metadata": {},
   "cell_type": "markdown",
   "source": "### Extract time-based features",
   "id": "ea9f864a"
  },
  {
   "metadata": {},
   "cell_type": "markdown",
   "source": "<h2 style=\"color:#d36c87;\">1.2. Data integration</h2>",
   "id": "775ae3389194257e"
  },
  {
   "metadata": {},
   "cell_type": "markdown",
   "source": "<h2 style=\"color:#d36c87;\">1.3. Data reduction</h2>",
   "id": "d20ea726a7e29a55"
  },
  {
   "metadata": {},
   "cell_type": "markdown",
   "source": "### Dimensionality reduction",
   "id": "ef909298ad4bb405"
  },
  {
   "metadata": {},
   "cell_type": "markdown",
   "source": "### Numerosity reduction",
   "id": "43faebd5f08723c5"
  },
  {
   "metadata": {},
   "cell_type": "markdown",
   "source": "### Data compression",
   "id": "a3cb92f9296b8966"
  },
  {
   "metadata": {},
   "cell_type": "markdown",
   "source": "<h2 style=\"color:#d36c87;\">1.4. Data transformation and data discretization</h2>",
   "id": "66f41a5f66e199f0"
  },
  {
   "metadata": {},
   "cell_type": "markdown",
   "source": [
    "---\n",
    "# 2. Data Visualization"
   ],
   "id": "b90c489d35b8eb45"
  }
 ],
 "metadata": {},
 "nbformat": 4,
 "nbformat_minor": 5
}
