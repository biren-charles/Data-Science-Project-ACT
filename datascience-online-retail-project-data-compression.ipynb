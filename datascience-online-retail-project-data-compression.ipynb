{
 "cells": [
  {
   "cell_type": "markdown",
   "id": "8e68cac4",
   "metadata": {},
   "source": [
    "# Online Retail Data\n",
    "This is a transactional data set which contains all the transactions occurring between 01/12/2010 and 09/12/2011 for a UK-based and registered non-store online retail. The company\n",
    "mainly sells unique all-occasion gifts. Many customers of the company are wholesalers. The project work consists of demonstrating an aspect of the course using the selected 'Online Retail' dataset.\n",
    "\n",
    "## Data set description\n",
    "- **Source:** UK-based online retailer (year 2010-2011)\n",
    "- **Rows:** Each row represents a transaction.\n",
    "- **Columns:**\n",
    "  - `InvoiceNo`: Invoice number\n",
    "  - `StockCode`: Product code\n",
    "  - `Description`: Product description\n",
    "  - `Quantity`: Number of items purchased\n",
    "  - `InvoiceDate`: Date/time of the invoice\n",
    "  - `UnitPrice`: Price per unit\n",
    "  - `CustomerID`: Customer ID\n",
    "  - `Country`: Country of the customer\n",
    "\n",
    "---"
   ]
  },
  {
   "cell_type": "markdown",
   "id": "94326ca9",
   "metadata": {},
   "source": [
    "# Import data"
   ]
  },
  {
   "cell_type": "code",
   "execution_count": 13,
   "id": "7b94f811298940e0",
   "metadata": {},
   "outputs": [
    {
     "name": "stdout",
     "output_type": "stream",
     "text": [
      "<class 'pandas.core.frame.DataFrame'>\n",
      "RangeIndex: 541909 entries, 0 to 541908\n",
      "Data columns (total 8 columns):\n",
      " #   Column       Non-Null Count   Dtype  \n",
      "---  ------       --------------   -----  \n",
      " 0   InvoiceNo    541909 non-null  object \n",
      " 1   StockCode    541909 non-null  object \n",
      " 2   Description  540455 non-null  object \n",
      " 3   Quantity     541909 non-null  int64  \n",
      " 4   InvoiceDate  541909 non-null  object \n",
      " 5   UnitPrice    541909 non-null  float64\n",
      " 6   CustomerID   406829 non-null  float64\n",
      " 7   Country      541909 non-null  object \n",
      "dtypes: float64(2), int64(1), object(5)\n",
      "memory usage: 33.1+ MB\n"
     ]
    },
    {
     "data": {
      "text/html": [
       "<div>\n",
       "<style scoped>\n",
       "    .dataframe tbody tr th:only-of-type {\n",
       "        vertical-align: middle;\n",
       "    }\n",
       "\n",
       "    .dataframe tbody tr th {\n",
       "        vertical-align: top;\n",
       "    }\n",
       "\n",
       "    .dataframe thead th {\n",
       "        text-align: right;\n",
       "    }\n",
       "</style>\n",
       "<table border=\"1\" class=\"dataframe\">\n",
       "  <thead>\n",
       "    <tr style=\"text-align: right;\">\n",
       "      <th></th>\n",
       "      <th>InvoiceNo</th>\n",
       "      <th>StockCode</th>\n",
       "      <th>Description</th>\n",
       "      <th>Quantity</th>\n",
       "      <th>InvoiceDate</th>\n",
       "      <th>UnitPrice</th>\n",
       "      <th>CustomerID</th>\n",
       "      <th>Country</th>\n",
       "    </tr>\n",
       "  </thead>\n",
       "  <tbody>\n",
       "    <tr>\n",
       "      <th>0</th>\n",
       "      <td>536365</td>\n",
       "      <td>85123A</td>\n",
       "      <td>WHITE HANGING HEART T-LIGHT HOLDER</td>\n",
       "      <td>6</td>\n",
       "      <td>12/1/2010 8:26</td>\n",
       "      <td>2.55</td>\n",
       "      <td>17850.0</td>\n",
       "      <td>United Kingdom</td>\n",
       "    </tr>\n",
       "    <tr>\n",
       "      <th>1</th>\n",
       "      <td>536365</td>\n",
       "      <td>71053</td>\n",
       "      <td>WHITE METAL LANTERN</td>\n",
       "      <td>6</td>\n",
       "      <td>12/1/2010 8:26</td>\n",
       "      <td>3.39</td>\n",
       "      <td>17850.0</td>\n",
       "      <td>United Kingdom</td>\n",
       "    </tr>\n",
       "    <tr>\n",
       "      <th>2</th>\n",
       "      <td>536365</td>\n",
       "      <td>84406B</td>\n",
       "      <td>CREAM CUPID HEARTS COAT HANGER</td>\n",
       "      <td>8</td>\n",
       "      <td>12/1/2010 8:26</td>\n",
       "      <td>2.75</td>\n",
       "      <td>17850.0</td>\n",
       "      <td>United Kingdom</td>\n",
       "    </tr>\n",
       "    <tr>\n",
       "      <th>3</th>\n",
       "      <td>536365</td>\n",
       "      <td>84029G</td>\n",
       "      <td>KNITTED UNION FLAG HOT WATER BOTTLE</td>\n",
       "      <td>6</td>\n",
       "      <td>12/1/2010 8:26</td>\n",
       "      <td>3.39</td>\n",
       "      <td>17850.0</td>\n",
       "      <td>United Kingdom</td>\n",
       "    </tr>\n",
       "    <tr>\n",
       "      <th>4</th>\n",
       "      <td>536365</td>\n",
       "      <td>84029E</td>\n",
       "      <td>RED WOOLLY HOTTIE WHITE HEART.</td>\n",
       "      <td>6</td>\n",
       "      <td>12/1/2010 8:26</td>\n",
       "      <td>3.39</td>\n",
       "      <td>17850.0</td>\n",
       "      <td>United Kingdom</td>\n",
       "    </tr>\n",
       "  </tbody>\n",
       "</table>\n",
       "</div>"
      ],
      "text/plain": [
       "  InvoiceNo StockCode                          Description  Quantity  \\\n",
       "0    536365    85123A   WHITE HANGING HEART T-LIGHT HOLDER         6   \n",
       "1    536365     71053                  WHITE METAL LANTERN         6   \n",
       "2    536365    84406B       CREAM CUPID HEARTS COAT HANGER         8   \n",
       "3    536365    84029G  KNITTED UNION FLAG HOT WATER BOTTLE         6   \n",
       "4    536365    84029E       RED WOOLLY HOTTIE WHITE HEART.         6   \n",
       "\n",
       "      InvoiceDate  UnitPrice  CustomerID         Country  \n",
       "0  12/1/2010 8:26       2.55     17850.0  United Kingdom  \n",
       "1  12/1/2010 8:26       3.39     17850.0  United Kingdom  \n",
       "2  12/1/2010 8:26       2.75     17850.0  United Kingdom  \n",
       "3  12/1/2010 8:26       3.39     17850.0  United Kingdom  \n",
       "4  12/1/2010 8:26       3.39     17850.0  United Kingdom  "
      ]
     },
     "execution_count": 13,
     "metadata": {},
     "output_type": "execute_result"
    }
   ],
   "source": [
    "import pandas as pd\n",
    "\n",
    "file_path = r'C:\\Users\\biren\\Desktop\\uni\\Bachelor BINFO\\Semester 4\\Data Science (4 ects)\\ACT project - Data set analysis\\Dataset_Online_Retail.csv'\n",
    "df = pd.read_csv(file_path)\n",
    "\n",
    "df_cleaned = df.copy()\n",
    "\n",
    "df_cleaned.info()\n",
    "df_cleaned.head()"
   ]
  },
  {
   "cell_type": "markdown",
   "id": "a29cfdcb17352aff",
   "metadata": {},
   "source": [
    "---\n",
    "# 1. Data Preprocessing"
   ]
  },
  {
   "cell_type": "markdown",
   "id": "39bfb9e2",
   "metadata": {},
   "source": [
    "<h2 style=\"color:#d36c87;\">1.1. Data cleaning</h2>"
   ]
  },
  {
   "cell_type": "markdown",
   "id": "58c0bbac8e4f3be4",
   "metadata": {},
   "source": [
    "### Handling Missing Values"
   ]
  },
  {
   "cell_type": "code",
   "execution_count": 14,
   "id": "65cff2dd-ebf5-47af-8552-d59d0aed5570",
   "metadata": {},
   "outputs": [],
   "source": [
    "df_cleaned.isnull().sum()\n",
    "\n",
    "df_cleaned = df_cleaned.dropna(subset=['CustomerID'])"
   ]
  },
  {
   "cell_type": "markdown",
   "id": "ecf4c703",
   "metadata": {},
   "source": [
    "### Remove Duplicates"
   ]
  },
  {
   "cell_type": "code",
   "execution_count": 15,
   "id": "6ddd16b4-68ca-4d5b-8319-7c44ec97d29a",
   "metadata": {},
   "outputs": [],
   "source": [
    "df_cleaned = df_cleaned.drop_duplicates()"
   ]
  },
  {
   "cell_type": "markdown",
   "id": "c2354d47",
   "metadata": {},
   "source": [
    "### Check and Convert Data Types"
   ]
  },
  {
   "cell_type": "code",
   "execution_count": 16,
   "id": "b35c87c5-ba3b-444e-9a62-d5662d368cc9",
   "metadata": {},
   "outputs": [],
   "source": [
    "df_cleaned['InvoiceDate'] = pd.to_datetime(df_cleaned['InvoiceDate'])"
   ]
  },
  {
   "cell_type": "markdown",
   "id": "305631f2",
   "metadata": {},
   "source": [
    "### Check Invalid Values"
   ]
  },
  {
   "cell_type": "code",
   "execution_count": 17,
   "id": "f364c757-660e-4a42-a89c-4d4c38e68f0a",
   "metadata": {},
   "outputs": [],
   "source": [
    "df_cleaned = df_cleaned[(df_cleaned['Quantity'] > 0) & (df_cleaned['UnitPrice'] > 0)]"
   ]
  },
  {
   "cell_type": "markdown",
   "id": "5d8fe08d15dc5425",
   "metadata": {},
   "source": [
    "### Identify and Remove Outliers"
   ]
  },
  {
   "cell_type": "code",
   "execution_count": 18,
   "id": "d321956e-4ca9-47c9-aa18-09eba13262c0",
   "metadata": {},
   "outputs": [],
   "source": [
    "# Quantity Outliers\n",
    "Q1_q = df_cleaned['Quantity'].quantile(0.25)\n",
    "Q3_q = df_cleaned['Quantity'].quantile(0.75)\n",
    "IQR_q = Q3_q - Q1_q\n",
    "df_cleaned = df_cleaned[(df_cleaned['Quantity'] >= Q1_q - 1.5 * IQR_q) & (df_cleaned['Quantity'] <= Q3_q + 1.5 * IQR_q)]\n",
    "\n",
    "#UnitPrice Outliers\n",
    "Q1_p = df_cleaned['UnitPrice'].quantile(0.25)\n",
    "Q3_p = df_cleaned['UnitPrice'].quantile(0.75)\n",
    "IQR_p = Q3_p - Q1_p\n",
    "df_cleaned = df_cleaned[(df_cleaned['UnitPrice'] >= Q1_p - 1.5 * IQR_p) & (df_cleaned['UnitPrice'] <= Q3_p + 1.5 * IQR_p)]"
   ]
  },
  {
   "cell_type": "markdown",
   "id": "c760b80fc47d1ee8",
   "metadata": {},
   "source": [
    "### Feature Engineering"
   ]
  },
  {
   "cell_type": "code",
   "execution_count": 19,
   "id": "03feab2e-c7a4-4f75-b62f-301dcbeb216e",
   "metadata": {},
   "outputs": [],
   "source": [
    "# TotalPrice = Quantity * UnitPrice\n",
    "df_cleaned['TotalPrice'] = df_cleaned['Quantity'] * df_cleaned['UnitPrice']"
   ]
  },
  {
   "cell_type": "markdown",
   "id": "af653d42-556e-411b-aa48-cf05af5d8ae9",
   "metadata": {},
   "source": [
    "### Export Clean Dataset"
   ]
  },
  {
   "cell_type": "code",
   "execution_count": 20,
   "id": "65d3142a-e47b-450b-8e34-eef3d5e20a25",
   "metadata": {},
   "outputs": [],
   "source": [
    "df_cleaned.to_csv(\"Dataset_Online_Retail_Cleaned.csv\", index=False)"
   ]
  },
  {
   "cell_type": "markdown",
   "id": "775ae3389194257e",
   "metadata": {},
   "source": [
    "<h2 style=\"color:#d36c87;\">1.2. Data integration</h2>"
   ]
  },
  {
   "cell_type": "code",
   "execution_count": 21,
   "id": "4dc4e80d-9a37-4264-867f-3b3aa57163cf",
   "metadata": {},
   "outputs": [],
   "source": [
    "numerical_df = df_cleaned[['Quantity', 'UnitPrice', 'CustomerID', 'TotalPrice']].dropna()"
   ]
  },
  {
   "cell_type": "markdown",
   "id": "9cc99ff8-6b1f-4f6b-80d0-21fac3560e72",
   "metadata": {},
   "source": [
    "### Covariance & Correlation Analysis"
   ]
  },
  {
   "cell_type": "code",
   "execution_count": 22,
   "id": "8ddc4e97-b3b7-4a7c-b1cb-5caa7bc89283",
   "metadata": {},
   "outputs": [
    {
     "name": "stdout",
     "output_type": "stream",
     "text": [
      "Covariance Matrix:\n",
      "               Quantity  UnitPrice    CustomerID   TotalPrice\n",
      "Quantity      45.930945  -3.665583 -1.698719e+03    45.917542\n",
      "UnitPrice     -3.665583   2.390161 -2.138029e+01     7.311779\n",
      "CustomerID -1698.719018 -21.380289  2.928123e+06 -2798.113013\n",
      "TotalPrice    45.917542   7.311779 -2.798113e+03   174.635352\n",
      "\n",
      "--------------------------\n",
      "\n",
      "Correlation Matrix:\n",
      "            Quantity  UnitPrice  CustomerID  TotalPrice\n",
      "Quantity    1.000000  -0.349846   -0.146479    0.512696\n",
      "UnitPrice  -0.349846   1.000000   -0.008082    0.357885\n",
      "CustomerID -0.146479  -0.008082    1.000000   -0.123738\n",
      "TotalPrice  0.512696   0.357885   -0.123738    1.000000\n",
      "\n",
      "--------------------------\n",
      "\n"
     ]
    },
    {
     "data": {
      "image/png": "[encoded data removed]",
      "text/plain": [
       "<Figure size 800x600 with 2 Axes>"
      ]
     },
     "metadata": {},
     "output_type": "display_data"
    }
   ],
   "source": [
    "cov_matrix = numerical_df.cov()\n",
    "corr_matrix = numerical_df.corr()\n",
    "\n",
    "print(\"Covariance Matrix:\")\n",
    "print(cov_matrix)\n",
    "\n",
    "print(\"\")\n",
    "print(\"--------------------------\")\n",
    "print(\"\")\n",
    "\n",
    "print(\"Correlation Matrix:\")\n",
    "print(corr_matrix)\n",
    "\n",
    "print(\"\")\n",
    "print(\"--------------------------\")\n",
    "print(\"\")\n",
    "\n",
    "import seaborn as sns\n",
    "import matplotlib.pyplot as plt\n",
    "\n",
    "# Size of the plot\n",
    "plt.figure(figsize=(8, 6))\n",
    "\n",
    "# Correlation Matrix HeatMap\n",
    "sns.heatmap(corr_matrix, annot=True, cmap=\"coolwarm\", fmt=\".2f\", square=True)\n",
    "\n",
    "plt.title(\"Correlation Matrix Heatmap\")\n",
    "plt.tight_layout()\n",
    "plt.show()"
   ]
  },
  {
   "cell_type": "markdown",
   "id": "d20ea726a7e29a55",
   "metadata": {},
   "source": [
    "<h2 style=\"color:#d36c87;\">1.3. Data reduction</h2>"
   ]
  },
  {
   "cell_type": "markdown",
   "id": "ef909298ad4bb405",
   "metadata": {},
   "source": [
    "### Dimensionality reduction"
   ]
  },
  {
   "cell_type": "code",
   "execution_count": 42,
   "id": "477d6aae",
   "metadata": {},
   "outputs": [
    {
     "name": "stdout",
     "output_type": "stream",
     "text": [
      "Explained Variance by PCA component: 0.6749\n"
     ]
    }
   ],
   "source": [
    "import numpy as np\n",
    "from sklearn.decomposition import PCA\n",
    "from sklearn.preprocessing import StandardScaler\n",
    "from scipy.cluster.hierarchy import linkage, fcluster\n",
    "from scipy.spatial.distance import pdist\n",
    "\n",
    "# Select numeric columns\n",
    "numeric_cols = ['Quantity', 'UnitPrice']\n",
    "df_pca = df_cleaned[numeric_cols].copy()\n",
    "\n",
    "# Clean data (remove NaNs or infinities)\n",
    "df_pca = df_pca.replace([np.inf, -np.inf], np.nan).dropna()\n",
    "\n",
    "# Standardize data\n",
    "scaler = StandardScaler()\n",
    "scaled_data = scaler.fit_transform(df_pca)\n",
    "\n",
    "# Applying PCA\n",
    "pca = PCA(n_components=1)\n",
    "principal_component = pca.fit_transform(scaled_data)\n",
    "\n",
    "# Store/display the result\n",
    "df_cleaned['PCA_1D'] = principal_component\n",
    "\n",
    "print(f\"Explained Variance by PCA component: {pca.explained_variance_ratio_[0]:.4f}\")\n"
   ]
  },
  {
   "cell_type": "code",
   "execution_count": 43,
   "id": "251d603a",
   "metadata": {},
   "outputs": [],
   "source": [
    "### PCA\tSimplifies feature space"
   ]
  },
  {
   "cell_type": "markdown",
   "id": "43faebd5f08723c5",
   "metadata": {},
   "source": [
    "### Numerosity reduction"
   ]
  },
  {
   "cell_type": "code",
   "execution_count": 44,
   "id": "b41f43ea",
   "metadata": {},
   "outputs": [
    {
     "name": "stdout",
     "output_type": "stream",
     "text": [
      "Numerosity reduction complete. Dataset reduced to one row per customer.\n"
     ]
    },
    {
     "data": {
      "text/html": [
       "<div>\n",
       "<style scoped>\n",
       "    .dataframe tbody tr th:only-of-type {\n",
       "        vertical-align: middle;\n",
       "    }\n",
       "\n",
       "    .dataframe tbody tr th {\n",
       "        vertical-align: top;\n",
       "    }\n",
       "\n",
       "    .dataframe thead th {\n",
       "        text-align: right;\n",
       "    }\n",
       "</style>\n",
       "<table border=\"1\" class=\"dataframe\">\n",
       "  <thead>\n",
       "    <tr style=\"text-align: right;\">\n",
       "      <th></th>\n",
       "      <th>CustomerID</th>\n",
       "      <th>Quantity</th>\n",
       "      <th>UnitPrice</th>\n",
       "      <th>PCA_1D</th>\n",
       "    </tr>\n",
       "  </thead>\n",
       "  <tbody>\n",
       "    <tr>\n",
       "      <th>0</th>\n",
       "      <td>12347.0</td>\n",
       "      <td>1893</td>\n",
       "      <td>2.348976</td>\n",
       "      <td>-0.331216</td>\n",
       "    </tr>\n",
       "    <tr>\n",
       "      <th>1</th>\n",
       "      <td>12348.0</td>\n",
       "      <td>140</td>\n",
       "      <td>0.650000</td>\n",
       "      <td>-2.352980</td>\n",
       "    </tr>\n",
       "    <tr>\n",
       "      <th>2</th>\n",
       "      <td>12349.0</td>\n",
       "      <td>523</td>\n",
       "      <td>2.607759</td>\n",
       "      <td>0.036128</td>\n",
       "    </tr>\n",
       "    <tr>\n",
       "      <th>3</th>\n",
       "      <td>12350.0</td>\n",
       "      <td>196</td>\n",
       "      <td>1.581250</td>\n",
       "      <td>-0.770663</td>\n",
       "    </tr>\n",
       "    <tr>\n",
       "      <th>4</th>\n",
       "      <td>12352.0</td>\n",
       "      <td>500</td>\n",
       "      <td>3.125152</td>\n",
       "      <td>0.423169</td>\n",
       "    </tr>\n",
       "  </tbody>\n",
       "</table>\n",
       "</div>"
      ],
      "text/plain": [
       "   CustomerID  Quantity  UnitPrice    PCA_1D\n",
       "0     12347.0      1893   2.348976 -0.331216\n",
       "1     12348.0       140   0.650000 -2.352980\n",
       "2     12349.0       523   2.607759  0.036128\n",
       "3     12350.0       196   1.581250 -0.770663\n",
       "4     12352.0       500   3.125152  0.423169"
      ]
     },
     "metadata": {},
     "output_type": "display_data"
    }
   ],
   "source": [
    "numerosity_df = df_cleaned.groupby('CustomerID').agg({\n",
    "    'Quantity': 'sum',\n",
    "    'UnitPrice': 'mean',\n",
    "    'PCA_1D': 'mean'  # From the PCA step\n",
    "}).reset_index()\n",
    "\n",
    "print(\"Numerosity reduction complete. Dataset reduced to one row per customer.\")\n",
    "display(numerosity_df.head())\n"
   ]
  },
  {
   "cell_type": "code",
   "execution_count": 45,
   "id": "25f9cc02",
   "metadata": {},
   "outputs": [],
   "source": [
    "### Group by (Aggregation)\tReduces row count, preserves key info"
   ]
  },
  {
   "cell_type": "markdown",
   "id": "a3cb92f9296b8966",
   "metadata": {},
   "source": [
    "### Data compression"
   ]
  },
  {
   "cell_type": "code",
   "execution_count": 46,
   "id": "a63ab66e",
   "metadata": {},
   "outputs": [
    {
     "name": "stdout",
     "output_type": "stream",
     "text": [
      "Data compression complete. Customers assigned to 5 clusters.\n"
     ]
    },
    {
     "data": {
      "text/html": [
       "<div>\n",
       "<style scoped>\n",
       "    .dataframe tbody tr th:only-of-type {\n",
       "        vertical-align: middle;\n",
       "    }\n",
       "\n",
       "    .dataframe tbody tr th {\n",
       "        vertical-align: top;\n",
       "    }\n",
       "\n",
       "    .dataframe thead th {\n",
       "        text-align: right;\n",
       "    }\n",
       "</style>\n",
       "<table border=\"1\" class=\"dataframe\">\n",
       "  <thead>\n",
       "    <tr style=\"text-align: right;\">\n",
       "      <th></th>\n",
       "      <th>CustomerID</th>\n",
       "      <th>Cluster</th>\n",
       "    </tr>\n",
       "  </thead>\n",
       "  <tbody>\n",
       "    <tr>\n",
       "      <th>0</th>\n",
       "      <td>12347.0</td>\n",
       "      <td>5</td>\n",
       "    </tr>\n",
       "    <tr>\n",
       "      <th>1</th>\n",
       "      <td>12348.0</td>\n",
       "      <td>3</td>\n",
       "    </tr>\n",
       "    <tr>\n",
       "      <th>2</th>\n",
       "      <td>12349.0</td>\n",
       "      <td>3</td>\n",
       "    </tr>\n",
       "    <tr>\n",
       "      <th>3</th>\n",
       "      <td>12350.0</td>\n",
       "      <td>3</td>\n",
       "    </tr>\n",
       "    <tr>\n",
       "      <th>4</th>\n",
       "      <td>12352.0</td>\n",
       "      <td>3</td>\n",
       "    </tr>\n",
       "  </tbody>\n",
       "</table>\n",
       "</div>"
      ],
      "text/plain": [
       "   CustomerID  Cluster\n",
       "0     12347.0        5\n",
       "1     12348.0        3\n",
       "2     12349.0        3\n",
       "3     12350.0        3\n",
       "4     12352.0        3"
      ]
     },
     "metadata": {},
     "output_type": "display_data"
    }
   ],
   "source": [
    "# Use reduced data\n",
    "compression_data = numerosity_df[['Quantity', 'UnitPrice']]\n",
    "\n",
    "# Calc. distance and linkage\n",
    "distance_matrix = pdist(compression_data)\n",
    "hierarchy_linkage = linkage(distance_matrix, method='ward')\n",
    "\n",
    "# Assigning clusters (5)\n",
    "numerosity_df['Cluster'] = fcluster(hierarchy_linkage, t=5, criterion='maxclust')\n",
    "\n",
    "print(\"Data compression complete. Customers assigned to 5 clusters.\")\n",
    "display(numerosity_df[['CustomerID', 'Cluster']].head())\n"
   ]
  },
  {
   "cell_type": "code",
   "execution_count": 47,
   "id": "4c52e1ba",
   "metadata": {},
   "outputs": [],
   "source": [
    "### Clustering\tCompresses customer representation"
   ]
  },
  {
   "cell_type": "markdown",
   "id": "66f41a5f66e199f0",
   "metadata": {},
   "source": [
    "<h2 style=\"color:#d36c87;\">1.4. Data transformation and data discretization</h2>"
   ]
  },
  {
   "cell_type": "markdown",
   "id": "b90c489d35b8eb45",
   "metadata": {},
   "source": [
    "---\n",
    "# 2. Data Visualization"
   ]
  },
  {
   "cell_type": "code",
   "execution_count": null,
   "id": "68dadd13",
   "metadata": {},
   "outputs": [],
   "source": []
  },
  {
   "cell_type": "code",
   "execution_count": null,
   "id": "6a4c1727",
   "metadata": {},
   "outputs": [],
   "source": []
  }
 ],
 "metadata": {
  "kernelspec": {
   "display_name": "Python 3 (ipykernel)",
   "language": "python",
   "name": "python3"
  },
  "language_info": {
   "codemirror_mode": {
    "name": "ipython",
    "version": 3
   },
   "file_extension": ".py",
   "mimetype": "text/x-python",
   "name": "python",
   "nbconvert_exporter": "python",
   "pygments_lexer": "ipython3",
   "version": "3.11.7"
  }
 },
 "nbformat": 4,
 "nbformat_minor": 5
}
